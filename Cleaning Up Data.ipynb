{
 "cells": [
  {
   "cell_type": "code",
   "execution_count": 1,
   "metadata": {},
   "outputs": [],
   "source": [
    "import pandas as pd\n",
    "import numpy as np\n",
    "import zipfile"
   ]
  },
  {
   "cell_type": "code",
   "execution_count": 8,
   "metadata": {},
   "outputs": [],
   "source": [
    "#Extract Files from ZIP files \n",
    "with zipfile.ZipFile(\"Data/JC-201901-citibike-tripdata.csv.zip\",\"r\") as zip_ref:\n",
    "    zip_ref.extractall('Data')\n",
    "    \n",
    "with zipfile.ZipFile(\"Data/JC-201902-citibike-tripdata.csv.zip\",\"r\") as zip_ref:\n",
    "    zip_ref.extractall('Data')\n",
    "    \n",
    "with zipfile.ZipFile(\"Data/JC-201903-citibike-tripdata.csv.zip\",\"r\") as zip_ref:\n",
    "    zip_ref.extractall('Data')\n",
    "    \n",
    "with zipfile.ZipFile(\"Data/JC-201904-citibike-tripdata.csv.zip\",\"r\") as zip_ref:\n",
    "    zip_ref.extractall('Data')\n",
    "    \n",
    "with zipfile.ZipFile(\"Data/JC-201905-citibike-tripdata.csv.zip\",\"r\") as zip_ref:\n",
    "    zip_ref.extractall('Data')\n",
    "    \n",
    "with zipfile.ZipFile(\"Data/JC-202001-citibike-tripdata.csv.zip\",\"r\") as zip_ref:\n",
    "    zip_ref.extractall('Data')\n",
    "    \n",
    "with zipfile.ZipFile(\"Data/JC-202002-citibike-tripdata.csv.zip\",\"r\") as zip_ref:\n",
    "    zip_ref.extractall('Data')\n",
    "    \n",
    "with zipfile.ZipFile(\"Data/JC-202003-citibike-tripdata.csv.zip\",\"r\") as zip_ref:\n",
    "    zip_ref.extractall('Data')\n",
    "    \n",
    "with zipfile.ZipFile(\"Data/JC-202004-citibike-tripdata.csv.zip\",\"r\") as zip_ref:\n",
    "    zip_ref.extractall('Data')\n",
    "    \n",
    "with zipfile.ZipFile(\"Data/JC-202005-citibike-tripdata.csv.zip\",\"r\") as zip_ref:\n",
    "    zip_ref.extractall('Data')"
   ]
  },
  {
   "cell_type": "code",
   "execution_count": 11,
   "metadata": {},
   "outputs": [],
   "source": [
    "jan_2019 = pd.read_csv('Data/JC-201901-citibike-tripdata.csv', dtype=object)\n",
    "feb_2019 = pd.read_csv('Data/JC-201902-citibike-tripdata.csv', dtype=object)\n",
    "mar_2019 = pd.read_csv('Data/JC-201903-citibike-tripdata.csv', dtype=object)\n",
    "apr_2019 = pd.read_csv('Data/JC-201904-citibike-tripdata.csv', dtype=object)\n",
    "may_2019 = pd.read_csv('Data/JC-201905-citibike-tripdata.csv', dtype=object)\n",
    "\n",
    "jan_2020 = pd.read_csv('Data/JC-202001-citibike-tripdata.csv', dtype=object)\n",
    "feb_2020 = pd.read_csv('Data/JC-202002-citibike-tripdata.csv', dtype=object)\n",
    "mar_2020 = pd.read_csv('Data/JC-202003-citibike-tripdata.csv', dtype=object)\n",
    "apr_2020 = pd.read_csv('Data/JC-202004-citibike-tripdata.csv', dtype=object)\n",
    "may_2020 = pd.read_csv('Data/JC-202005-citibike-tripdata.csv', dtype=object)"
   ]
  },
  {
   "cell_type": "code",
   "execution_count": 17,
   "metadata": {},
   "outputs": [],
   "source": [
    "first_five_2019 = pd.concat([jan_2019, feb_2019, mar_2019, apr_2019, may_2019])\n",
    "first_five_2019\n",
    "\n",
    "first_five_2019.to_csv ('Data/firstfive2019.xlsx', header=True)"
   ]
  },
  {
   "cell_type": "code",
   "execution_count": 18,
   "metadata": {},
   "outputs": [],
   "source": [
    "first_five_2020 = pd.concat([jan_2020, feb_2020, mar_2020, apr_2020, may_2020])\n",
    "first_five_2020\n",
    "\n",
    "first_five_2020.to_csv ('Data/firstfive2020.xlsx', header=True)"
   ]
  },
  {
   "cell_type": "code",
   "execution_count": 19,
   "metadata": {},
   "outputs": [],
   "source": [
    "first_five = pd.concat([first_five_2019, first_five_2020])"
   ]
  },
  {
   "cell_type": "code",
   "execution_count": 20,
   "metadata": {},
   "outputs": [],
   "source": [
    "first_five.to_csv ('Data/firstfive.csv', header=True)"
   ]
  },
  {
   "cell_type": "code",
   "execution_count": null,
   "metadata": {},
   "outputs": [],
   "source": []
  }
 ],
 "metadata": {
  "kernelspec": {
   "display_name": "Python 3",
   "language": "python",
   "name": "python3"
  },
  "language_info": {
   "codemirror_mode": {
    "name": "ipython",
    "version": 3
   },
   "file_extension": ".py",
   "mimetype": "text/x-python",
   "name": "python",
   "nbconvert_exporter": "python",
   "pygments_lexer": "ipython3",
   "version": "3.7.4"
  }
 },
 "nbformat": 4,
 "nbformat_minor": 2
}
